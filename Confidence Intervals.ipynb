{
 "cells": [
  {
   "cell_type": "markdown",
   "id": "03fdf449",
   "metadata": {},
   "source": [
    "# Confidence Intervals"
   ]
  },
  {
   "cell_type": "markdown",
   "id": "58c300c9",
   "metadata": {},
   "source": [
    "A confidence interval is a range of values that is likely to contain the true value of a population parameter (such as a population mean or proportion) with a certain degree of confidence, **based on a sample from that population.**\n",
    "\n",
    "For example, suppose we want to estimate the average height of all people in a particular city. We take a random sample of 100 people from that city and compute the sample mean height. The true population mean height may be different from the sample mean height due to chance variation in the sample. A confidence interval provides a range of values that we are reasonably certain contains the true population mean height, based on the observed sample mean height and the variability in the sample.\n",
    "\n",
    "**The level of confidence is typically set at a certain percentage, such as 95% or 99%.** This represents the probability that the true population parameter falls within the calculated confidence interval. The width of the confidence interval depends on the sample size and the variability of the data.\n",
    "\n",
    "**In summary, a confidence interval is a statistical tool that helps to quantify the uncertainty in an estimate of a population parameter by providing a range of plausible values for that parameter, with a specified level of confidence.**"
   ]
  },
  {
   "cell_type": "code",
   "execution_count": 1,
   "id": "fb0837c6",
   "metadata": {},
   "outputs": [
    {
     "name": "stdout",
     "output_type": "stream",
     "text": [
      "Requirement already satisfied: statsmodels in c:\\users\\x\\anaconda3\\lib\\site-packages (0.13.2)\n",
      "Requirement already satisfied: numpy>=1.17 in c:\\users\\x\\anaconda3\\lib\\site-packages (from statsmodels) (1.21.5)\n",
      "Requirement already satisfied: scipy>=1.3 in c:\\users\\x\\anaconda3\\lib\\site-packages (from statsmodels) (1.9.1)\n",
      "Requirement already satisfied: pandas>=0.25 in c:\\users\\x\\anaconda3\\lib\\site-packages (from statsmodels) (1.4.4)\n",
      "Requirement already satisfied: patsy>=0.5.2 in c:\\users\\x\\anaconda3\\lib\\site-packages (from statsmodels) (0.5.2)\n",
      "Requirement already satisfied: packaging>=21.3 in c:\\users\\x\\anaconda3\\lib\\site-packages (from statsmodels) (21.3)\n",
      "Requirement already satisfied: pyparsing!=3.0.5,>=2.0.2 in c:\\users\\x\\anaconda3\\lib\\site-packages (from packaging>=21.3->statsmodels) (3.0.9)\n",
      "Requirement already satisfied: python-dateutil>=2.8.1 in c:\\users\\x\\anaconda3\\lib\\site-packages (from pandas>=0.25->statsmodels) (2.8.2)\n",
      "Requirement already satisfied: pytz>=2020.1 in c:\\users\\x\\anaconda3\\lib\\site-packages (from pandas>=0.25->statsmodels) (2022.1)\n",
      "Requirement already satisfied: six in c:\\users\\x\\anaconda3\\lib\\site-packages (from patsy>=0.5.2->statsmodels) (1.16.0)\n"
     ]
    }
   ],
   "source": [
    "import pandas as pd\n",
    "import seaborn as sns\n",
    "!pip install statsmodels\n",
    "import statsmodels.stats.api as sms"
   ]
  },
  {
   "cell_type": "code",
   "execution_count": 2,
   "id": "b400136a",
   "metadata": {},
   "outputs": [],
   "source": [
    "df = sns.load_dataset(\"tips\")"
   ]
  },
  {
   "cell_type": "markdown",
   "id": "c8f61718",
   "metadata": {},
   "source": [
    "About Dataset- Tips data set is a data set that contains restaurant information.\n",
    "\n",
    "total_bill: total price of the meal (including tip and tax)\n",
    "\n",
    "tip\n",
    "\n",
    "sex: gender of the payer\n",
    "\n",
    "smoker: Are there any smokers in the group?\n",
    "\n",
    "day\n",
    "\n",
    "size: How many people are in the group?"
   ]
  },
  {
   "cell_type": "code",
   "execution_count": 3,
   "id": "f938ea42",
   "metadata": {},
   "outputs": [
    {
     "data": {
      "text/html": [
       "<div>\n",
       "<style scoped>\n",
       "    .dataframe tbody tr th:only-of-type {\n",
       "        vertical-align: middle;\n",
       "    }\n",
       "\n",
       "    .dataframe tbody tr th {\n",
       "        vertical-align: top;\n",
       "    }\n",
       "\n",
       "    .dataframe thead th {\n",
       "        text-align: right;\n",
       "    }\n",
       "</style>\n",
       "<table border=\"1\" class=\"dataframe\">\n",
       "  <thead>\n",
       "    <tr style=\"text-align: right;\">\n",
       "      <th></th>\n",
       "      <th>total_bill</th>\n",
       "      <th>tip</th>\n",
       "      <th>sex</th>\n",
       "      <th>smoker</th>\n",
       "      <th>day</th>\n",
       "      <th>time</th>\n",
       "      <th>size</th>\n",
       "    </tr>\n",
       "  </thead>\n",
       "  <tbody>\n",
       "    <tr>\n",
       "      <th>0</th>\n",
       "      <td>16.99</td>\n",
       "      <td>1.01</td>\n",
       "      <td>Female</td>\n",
       "      <td>No</td>\n",
       "      <td>Sun</td>\n",
       "      <td>Dinner</td>\n",
       "      <td>2</td>\n",
       "    </tr>\n",
       "    <tr>\n",
       "      <th>1</th>\n",
       "      <td>10.34</td>\n",
       "      <td>1.66</td>\n",
       "      <td>Male</td>\n",
       "      <td>No</td>\n",
       "      <td>Sun</td>\n",
       "      <td>Dinner</td>\n",
       "      <td>3</td>\n",
       "    </tr>\n",
       "    <tr>\n",
       "      <th>2</th>\n",
       "      <td>21.01</td>\n",
       "      <td>3.50</td>\n",
       "      <td>Male</td>\n",
       "      <td>No</td>\n",
       "      <td>Sun</td>\n",
       "      <td>Dinner</td>\n",
       "      <td>3</td>\n",
       "    </tr>\n",
       "    <tr>\n",
       "      <th>3</th>\n",
       "      <td>23.68</td>\n",
       "      <td>3.31</td>\n",
       "      <td>Male</td>\n",
       "      <td>No</td>\n",
       "      <td>Sun</td>\n",
       "      <td>Dinner</td>\n",
       "      <td>2</td>\n",
       "    </tr>\n",
       "    <tr>\n",
       "      <th>4</th>\n",
       "      <td>24.59</td>\n",
       "      <td>3.61</td>\n",
       "      <td>Female</td>\n",
       "      <td>No</td>\n",
       "      <td>Sun</td>\n",
       "      <td>Dinner</td>\n",
       "      <td>4</td>\n",
       "    </tr>\n",
       "  </tbody>\n",
       "</table>\n",
       "</div>"
      ],
      "text/plain": [
       "   total_bill   tip     sex smoker  day    time  size\n",
       "0       16.99  1.01  Female     No  Sun  Dinner     2\n",
       "1       10.34  1.66    Male     No  Sun  Dinner     3\n",
       "2       21.01  3.50    Male     No  Sun  Dinner     3\n",
       "3       23.68  3.31    Male     No  Sun  Dinner     2\n",
       "4       24.59  3.61  Female     No  Sun  Dinner     4"
      ]
     },
     "execution_count": 3,
     "metadata": {},
     "output_type": "execute_result"
    }
   ],
   "source": [
    "df.head()"
   ]
  },
  {
   "cell_type": "code",
   "execution_count": 4,
   "id": "0aaf20cd",
   "metadata": {},
   "outputs": [
    {
     "data": {
      "text/html": [
       "<div>\n",
       "<style scoped>\n",
       "    .dataframe tbody tr th:only-of-type {\n",
       "        vertical-align: middle;\n",
       "    }\n",
       "\n",
       "    .dataframe tbody tr th {\n",
       "        vertical-align: top;\n",
       "    }\n",
       "\n",
       "    .dataframe thead th {\n",
       "        text-align: right;\n",
       "    }\n",
       "</style>\n",
       "<table border=\"1\" class=\"dataframe\">\n",
       "  <thead>\n",
       "    <tr style=\"text-align: right;\">\n",
       "      <th></th>\n",
       "      <th>count</th>\n",
       "      <th>mean</th>\n",
       "      <th>std</th>\n",
       "      <th>min</th>\n",
       "      <th>25%</th>\n",
       "      <th>50%</th>\n",
       "      <th>75%</th>\n",
       "      <th>max</th>\n",
       "    </tr>\n",
       "  </thead>\n",
       "  <tbody>\n",
       "    <tr>\n",
       "      <th>total_bill</th>\n",
       "      <td>244.0</td>\n",
       "      <td>19.785943</td>\n",
       "      <td>8.902412</td>\n",
       "      <td>3.07</td>\n",
       "      <td>13.3475</td>\n",
       "      <td>17.795</td>\n",
       "      <td>24.1275</td>\n",
       "      <td>50.81</td>\n",
       "    </tr>\n",
       "    <tr>\n",
       "      <th>tip</th>\n",
       "      <td>244.0</td>\n",
       "      <td>2.998279</td>\n",
       "      <td>1.383638</td>\n",
       "      <td>1.00</td>\n",
       "      <td>2.0000</td>\n",
       "      <td>2.900</td>\n",
       "      <td>3.5625</td>\n",
       "      <td>10.00</td>\n",
       "    </tr>\n",
       "    <tr>\n",
       "      <th>size</th>\n",
       "      <td>244.0</td>\n",
       "      <td>2.569672</td>\n",
       "      <td>0.951100</td>\n",
       "      <td>1.00</td>\n",
       "      <td>2.0000</td>\n",
       "      <td>2.000</td>\n",
       "      <td>3.0000</td>\n",
       "      <td>6.00</td>\n",
       "    </tr>\n",
       "  </tbody>\n",
       "</table>\n",
       "</div>"
      ],
      "text/plain": [
       "            count       mean       std   min      25%     50%      75%    max\n",
       "total_bill  244.0  19.785943  8.902412  3.07  13.3475  17.795  24.1275  50.81\n",
       "tip         244.0   2.998279  1.383638  1.00   2.0000   2.900   3.5625  10.00\n",
       "size        244.0   2.569672  0.951100  1.00   2.0000   2.000   3.0000   6.00"
      ]
     },
     "execution_count": 4,
     "metadata": {},
     "output_type": "execute_result"
    }
   ],
   "source": [
    "df.describe().T"
   ]
  },
  {
   "cell_type": "markdown",
   "id": "1d3af9c4",
   "metadata": {},
   "source": [
    "When we look at the average of the total bill variable, we see that it is 19.78\n",
    "\n",
    "**However, the information I want to obtain with the confidence interval here is \"What will the total bill be in the worst scenario? So how much does the restaurant earn at the worst? Or how much does the restaurant earn at the best?\" Because, payment times or salaries can be determined accordingly.**\n",
    "\n",
    "Confidence interval calculation should be done for this."
   ]
  },
  {
   "cell_type": "code",
   "execution_count": 5,
   "id": "d1cb8ea2",
   "metadata": {},
   "outputs": [
    {
     "data": {
      "text/plain": [
       "(18.66333170435847, 20.908553541543164)"
      ]
     },
     "execution_count": 5,
     "metadata": {},
     "output_type": "execute_result"
    }
   ],
   "source": [
    "sms.DescrStatsW(df[\"total_bill\"]).tconfint_mean()"
   ]
  },
  {
   "cell_type": "markdown",
   "id": "833cd4ca",
   "metadata": {},
   "source": [
    "Total bill average was 19.78.\n",
    "So what does this mean? (18.66333170435847, 20.908553541543164)\n",
    "\n",
    "**If I take 100 samples and take the total bill average of these 100 samples, 95 of these 100 samples will be in the range of (18.66333170435847, 20.908553541543164).**\n",
    "\n",
    "There is a 5% chance that it may be outside of this range.\n",
    "\n"
   ]
  },
  {
   "cell_type": "markdown",
   "id": "b09724ba",
   "metadata": {},
   "source": [
    "**The average of the accounts paid by the customers visiting the restaurant is between 18.66 and 20.90 with 95% confidence.**"
   ]
  }
 ],
 "metadata": {
  "kernelspec": {
   "display_name": "Python 3 (ipykernel)",
   "language": "python",
   "name": "python3"
  },
  "language_info": {
   "codemirror_mode": {
    "name": "ipython",
    "version": 3
   },
   "file_extension": ".py",
   "mimetype": "text/x-python",
   "name": "python",
   "nbconvert_exporter": "python",
   "pygments_lexer": "ipython3",
   "version": "3.9.13"
  }
 },
 "nbformat": 4,
 "nbformat_minor": 5
}
