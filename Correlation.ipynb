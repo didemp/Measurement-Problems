{
 "cells": [
  {
   "cell_type": "markdown",
   "id": "d1ab6fd5",
   "metadata": {},
   "source": [
    "# Correlation"
   ]
  },
  {
   "cell_type": "markdown",
   "id": "ed91ca52",
   "metadata": {},
   "source": [
    "Correlation is a statistical measure that quantifies the relationship between two variables. It measures the degree to which the values of one variable are associated with the values of another variable. **Correlation is typically expressed as a correlation coefficient, which is a value that ranges from -1 to 1.**\n",
    "\n",
    "A positive correlation coefficient indicates a positive relationship between the two variables, meaning that as the values of one variable increase, the values of the other variable tend to increase as well. A negative correlation coefficient indicates a negative relationship between the two variables, meaning that as the values of one variable increase, the values of the other variable tend to decrease.\n",
    "\n",
    "**A correlation coefficient of 0 indicates no relationship between the two variables.** Correlation does not imply causation, meaning that even if two variables are highly correlated, it does not necessarily mean that one variable causes the other variable to change."
   ]
  },
  {
   "cell_type": "code",
   "execution_count": 1,
   "id": "0a944e97",
   "metadata": {},
   "outputs": [],
   "source": [
    "import pandas as pd\n",
    "import matplotlib.pyplot as plt\n",
    "import seaborn as sns"
   ]
  },
  {
   "cell_type": "code",
   "execution_count": 2,
   "id": "963480c7",
   "metadata": {},
   "outputs": [],
   "source": [
    "df = sns.load_dataset('tips')"
   ]
  },
  {
   "cell_type": "code",
   "execution_count": 3,
   "id": "94a1031e",
   "metadata": {},
   "outputs": [
    {
     "data": {
      "text/html": [
       "<div>\n",
       "<style scoped>\n",
       "    .dataframe tbody tr th:only-of-type {\n",
       "        vertical-align: middle;\n",
       "    }\n",
       "\n",
       "    .dataframe tbody tr th {\n",
       "        vertical-align: top;\n",
       "    }\n",
       "\n",
       "    .dataframe thead th {\n",
       "        text-align: right;\n",
       "    }\n",
       "</style>\n",
       "<table border=\"1\" class=\"dataframe\">\n",
       "  <thead>\n",
       "    <tr style=\"text-align: right;\">\n",
       "      <th></th>\n",
       "      <th>total_bill</th>\n",
       "      <th>tip</th>\n",
       "      <th>sex</th>\n",
       "      <th>smoker</th>\n",
       "      <th>day</th>\n",
       "      <th>time</th>\n",
       "      <th>size</th>\n",
       "    </tr>\n",
       "  </thead>\n",
       "  <tbody>\n",
       "    <tr>\n",
       "      <th>0</th>\n",
       "      <td>16.99</td>\n",
       "      <td>1.01</td>\n",
       "      <td>Female</td>\n",
       "      <td>No</td>\n",
       "      <td>Sun</td>\n",
       "      <td>Dinner</td>\n",
       "      <td>2</td>\n",
       "    </tr>\n",
       "    <tr>\n",
       "      <th>1</th>\n",
       "      <td>10.34</td>\n",
       "      <td>1.66</td>\n",
       "      <td>Male</td>\n",
       "      <td>No</td>\n",
       "      <td>Sun</td>\n",
       "      <td>Dinner</td>\n",
       "      <td>3</td>\n",
       "    </tr>\n",
       "    <tr>\n",
       "      <th>2</th>\n",
       "      <td>21.01</td>\n",
       "      <td>3.50</td>\n",
       "      <td>Male</td>\n",
       "      <td>No</td>\n",
       "      <td>Sun</td>\n",
       "      <td>Dinner</td>\n",
       "      <td>3</td>\n",
       "    </tr>\n",
       "    <tr>\n",
       "      <th>3</th>\n",
       "      <td>23.68</td>\n",
       "      <td>3.31</td>\n",
       "      <td>Male</td>\n",
       "      <td>No</td>\n",
       "      <td>Sun</td>\n",
       "      <td>Dinner</td>\n",
       "      <td>2</td>\n",
       "    </tr>\n",
       "    <tr>\n",
       "      <th>4</th>\n",
       "      <td>24.59</td>\n",
       "      <td>3.61</td>\n",
       "      <td>Female</td>\n",
       "      <td>No</td>\n",
       "      <td>Sun</td>\n",
       "      <td>Dinner</td>\n",
       "      <td>4</td>\n",
       "    </tr>\n",
       "  </tbody>\n",
       "</table>\n",
       "</div>"
      ],
      "text/plain": [
       "   total_bill   tip     sex smoker  day    time  size\n",
       "0       16.99  1.01  Female     No  Sun  Dinner     2\n",
       "1       10.34  1.66    Male     No  Sun  Dinner     3\n",
       "2       21.01  3.50    Male     No  Sun  Dinner     3\n",
       "3       23.68  3.31    Male     No  Sun  Dinner     2\n",
       "4       24.59  3.61  Female     No  Sun  Dinner     4"
      ]
     },
     "execution_count": 3,
     "metadata": {},
     "output_type": "execute_result"
    }
   ],
   "source": [
    "df.head()"
   ]
  },
  {
   "cell_type": "markdown",
   "id": "eb05732d",
   "metadata": {},
   "source": [
    "total_bill: total amount of the meal (including tip and tax)\n",
    "\n",
    "tip: amount of tip\n",
    "\n",
    "sex: gender of the person paying the bill (0=male, 1=female)\n",
    "\n",
    "smoker: whether there were smokers in the group (0=No, 1=Yes)\n",
    "\n",
    "day: day of the week (3=Thur, 4=Fri, 5=Sat, 6=Sun)\n",
    "\n",
    "time: time of day (0=Day, 1=Night)\n",
    "\n",
    "size: size of the group (number of people)"
   ]
  },
  {
   "cell_type": "code",
   "execution_count": 4,
   "id": "65928ce7",
   "metadata": {},
   "outputs": [],
   "source": [
    "df[\"total_bill\"] = df[\"total_bill\"] - df[\"tip\"]"
   ]
  },
  {
   "cell_type": "markdown",
   "id": "16efcf13",
   "metadata": {},
   "source": [
    "Looking at the correlation between only the meal price and tip by subtracting the tip from the total bill to better understand the correlation."
   ]
  },
  {
   "cell_type": "code",
   "execution_count": 5,
   "id": "ceec8a85",
   "metadata": {},
   "outputs": [
    {
     "data": {
      "image/png": "[encoded data removed]",
      "text/plain": [
       "<Figure size 640x480 with 1 Axes>"
      ]
     },
     "metadata": {},
     "output_type": "display_data"
    }
   ],
   "source": [
    "df.plot.scatter(\"tip\", \"total_bill\")\n",
    "plt.show()"
   ]
  },
  {
   "cell_type": "markdown",
   "id": "7247006b",
   "metadata": {},
   "source": [
    "On the x-axis, there is tip, and on the y-axis, there is total bill. Although we do not have a mathematical measure yet, it is evident from this graph that there is a relationship between the two variables. A positive relationship between the two variables is observed. "
   ]
  },
  {
   "cell_type": "code",
   "execution_count": 6,
   "id": "3db3c4dc",
   "metadata": {},
   "outputs": [
    {
     "data": {
      "text/plain": [
       "0.5766634471096374"
      ]
     },
     "execution_count": 6,
     "metadata": {},
     "output_type": "execute_result"
    }
   ],
   "source": [
    "df[\"tip\"].corr(df[\"total_bill\"])"
   ]
  },
  {
   "cell_type": "markdown",
   "id": "847201f6",
   "metadata": {},
   "source": [
    "There is a positive correlation with a correlation coefficient of 0.57"
   ]
  }
 ],
 "metadata": {
  "kernelspec": {
   "display_name": "Python 3 (ipykernel)",
   "language": "python",
   "name": "python3"
  },
  "language_info": {
   "codemirror_mode": {
    "name": "ipython",
    "version": 3
   },
   "file_extension": ".py",
   "mimetype": "text/x-python",
   "name": "python",
   "nbconvert_exporter": "python",
   "pygments_lexer": "ipython3",
   "version": "3.9.13"
  }
 },
 "nbformat": 4,
 "nbformat_minor": 5
}
